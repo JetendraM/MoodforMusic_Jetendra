{
 "cells": [
  {
   "cell_type": "code",
   "execution_count": 1,
   "id": "1cf78c59-0601-4145-9e9f-8e8f7f4b1caa",
   "metadata": {},
   "outputs": [],
   "source": [
    "import cv2\n",
    "import os\n",
    "import random\n",
    "import glob as gb\n",
    "import numpy as np\n",
    "import pandas as pd\n",
    "import matplotlib.pyplot as plt\n",
    "import matplotlib.image as mpimg\n",
    "import zipfile\n",
    "import seaborn as sns\n",
    "import warnings\n",
    "warnings.filterwarnings('ignore')\n",
    "from sklearn.metrics import classification_report, confusion_matrix\n",
    "import tensorflow as tf\n",
    "from tensorflow import keras\n",
    "from tensorflow.keras import layers, models, optimizers\n",
    "from tensorflow.keras.preprocessing.image import ImageDataGenerator, load_img, img_to_array\n",
    "from tensorflow.keras.preprocessing import image\n",
    "from tensorflow.keras.callbacks import EarlyStopping, ModelCheckpoint, ReduceLROnPlateau\n",
    "from tensorflow.keras.utils import plot_model\n",
    "from tensorflow.keras.layers import *"
   ]
  },
  {
   "cell_type": "code",
   "execution_count": 2,
   "id": "bc08a03f-9e92-4b95-8ee7-bbde3d337eb2",
   "metadata": {},
   "outputs": [
    {
     "name": "stdout",
     "output_type": "stream",
     "text": [
      "['data_moods.csv', 'test', 'train']\n"
     ]
    }
   ],
   "source": [
    "zip_file_path = 'MoodforMusic.zip'\n",
    "extract_to_path = 'MoodforMusic'\n",
    "with zipfile.ZipFile(zip_file_path, 'r') as zip_ref:\n",
    "    zip_ref.extractall(extract_to_path)\n",
    "extracted_files = os.listdir(extract_to_path)\n",
    "print(extracted_files)"
   ]
  },
  {
   "cell_type": "code",
   "execution_count": 3,
   "id": "95ad9ecc-e973-41a3-acf6-7ba351c1bd8a",
   "metadata": {},
   "outputs": [],
   "source": [
    "train_data=\"../MoodforMusic/train/\"\n",
    "test_data=\"../MoodforMusic/test/\"\n",
    "\n",
    "def Classes_Count(path, name):\n",
    "    Classes_Dict={}\n",
    "    for Class in os.listdir(path):\n",
    "        Full_Path = path+Class\n",
    "        Classes_Dict[Class]=len(os.listdir(Full_Path))\n",
    "    df=pd.DataFrame(Classes_Dict, index=[name])\n",
    "    return df\n",
    "\n",
    "Train_Count= Classes_Count(train_data, \"Train\").transpose().sort_values(by=\"Train\",ascending=False)\n",
    "Test_Count= Classes_Count(test_data, \"Test\").transpose().sort_values(by=\"Test\",ascending=False)"
   ]
  },
  {
   "cell_type": "code",
   "execution_count": 4,
   "id": "5418ed7c-72f7-4839-b458-e3df93ced50e",
   "metadata": {},
   "outputs": [
    {
     "data": {
      "text/html": [
       "<div>\n",
       "<style scoped>\n",
       "    .dataframe tbody tr th:only-of-type {\n",
       "        vertical-align: middle;\n",
       "    }\n",
       "\n",
       "    .dataframe tbody tr th {\n",
       "        vertical-align: top;\n",
       "    }\n",
       "\n",
       "    .dataframe thead th {\n",
       "        text-align: right;\n",
       "    }\n",
       "</style>\n",
       "<table border=\"1\" class=\"dataframe\">\n",
       "  <thead>\n",
       "    <tr style=\"text-align: right;\">\n",
       "      <th></th>\n",
       "      <th>Train</th>\n",
       "      <th>Test</th>\n",
       "    </tr>\n",
       "  </thead>\n",
       "  <tbody>\n",
       "    <tr>\n",
       "      <th>happy</th>\n",
       "      <td>7215</td>\n",
       "      <td>1774</td>\n",
       "    </tr>\n",
       "    <tr>\n",
       "      <th>neutral</th>\n",
       "      <td>4965</td>\n",
       "      <td>1233</td>\n",
       "    </tr>\n",
       "    <tr>\n",
       "      <th>sad</th>\n",
       "      <td>4830</td>\n",
       "      <td>1248</td>\n",
       "    </tr>\n",
       "    <tr>\n",
       "      <th>fear</th>\n",
       "      <td>4097</td>\n",
       "      <td>1024</td>\n",
       "    </tr>\n",
       "    <tr>\n",
       "      <th>angry</th>\n",
       "      <td>3995</td>\n",
       "      <td>958</td>\n",
       "    </tr>\n",
       "    <tr>\n",
       "      <th>surprise</th>\n",
       "      <td>3171</td>\n",
       "      <td>831</td>\n",
       "    </tr>\n",
       "    <tr>\n",
       "      <th>disgust</th>\n",
       "      <td>436</td>\n",
       "      <td>111</td>\n",
       "    </tr>\n",
       "  </tbody>\n",
       "</table>\n",
       "</div>"
      ],
      "text/plain": [
       "          Train  Test\n",
       "happy      7215  1774\n",
       "neutral    4965  1233\n",
       "sad        4830  1248\n",
       "fear       4097  1024\n",
       "angry      3995   958\n",
       "surprise   3171   831\n",
       "disgust     436   111"
      ]
     },
     "execution_count": 4,
     "metadata": {},
     "output_type": "execute_result"
    }
   ],
   "source": [
    "pd.concat([Train_Count,Test_Count], axis=1)"
   ]
  },
  {
   "cell_type": "code",
   "execution_count": 5,
   "id": "21293fb9-dec0-47ae-acbf-97347700cd84",
   "metadata": {},
   "outputs": [
    {
     "data": {
      "text/plain": [
       "<Axes: >"
      ]
     },
     "execution_count": 5,
     "metadata": {},
     "output_type": "execute_result"
    },
    {
     "data": {
      "image/png": "[encoded data removed]",
      "text/plain": [
       "<Figure size 640x480 with 1 Axes>"
      ]
     },
     "metadata": {},
     "output_type": "display_data"
    }
   ],
   "source": [
    "Train_Count.plot(kind=\"barh\")"
   ]
  },
  {
   "cell_type": "code",
   "execution_count": 6,
   "id": "223e96b5-8f3f-4f09-ae17-bb830f0fe88f",
   "metadata": {},
   "outputs": [
    {
     "data": {
      "text/plain": [
       "<Axes: >"
      ]
     },
     "execution_count": 6,
     "metadata": {},
     "output_type": "execute_result"
    },
    {
     "data": {
      "image/png": "[encoded data removed]",
      "text/plain": [
       "<Figure size 640x480 with 1 Axes>"
      ]
     },
     "metadata": {},
     "output_type": "display_data"
    }
   ],
   "source": [
    "Test_Count.plot(kind=\"barh\")"
   ]
  },
  {
   "cell_type": "code",
   "execution_count": 7,
   "id": "8d8089c1-9805-4857-a046-bacb3566d418",
   "metadata": {},
   "outputs": [
    {
     "data": {
      "image/png": "[encoded data removed]",
      "text/plain": [
       "<Figure size 2500x800 with 7 Axes>"
      ]
     },
     "metadata": {},
     "output_type": "display_data"
    }
   ],
   "source": [
    "plt.style.use(\"default\")\n",
    "plt.figure(figsize=(25,8))\n",
    "image_count=1\n",
    "BASE_URL = \"../MoodforMusic/train/\"\n",
    "\n",
    "for directory in os.listdir(BASE_URL):\n",
    "    if directory[0] != \".\":\n",
    "        for i, file in enumerate(os.listdir(BASE_URL + directory)):\n",
    "            if i == 1:\n",
    "                break\n",
    "            else:\n",
    "                fig = plt.subplot(1,7, image_count)\n",
    "                image_count+=1\n",
    "                image=cv2.imread(BASE_URL+directory+\"/\"+file)\n",
    "                plt.imshow(image)\n",
    "                plt.title(directory, fontsize=20)"
   ]
  },
  {
   "cell_type": "code",
   "execution_count": 8,
   "id": "fe076266-0b59-4daa-8f9c-689f509c8513",
   "metadata": {},
   "outputs": [],
   "source": [
    "img_shape=224\n",
    "batch_size=8\n",
    "train_data_path=\"../MoodforMusic/train/\"\n",
    "test_data_path=\"../MoodforMusic/test/\""
   ]
  },
  {
   "cell_type": "code",
   "execution_count": 9,
   "id": "f4c64cc0-0485-4d80-870b-1477b6b680ff",
   "metadata": {},
   "outputs": [
    {
     "name": "stdout",
     "output_type": "stream",
     "text": [
      "Found 28709 images belonging to 7 classes.\n",
      "Found 7179 images belonging to 7 classes.\n"
     ]
    }
   ],
   "source": [
    "train_preprocessor = ImageDataGenerator(\n",
    "    rescale=1.0/255.0, \n",
    "    rotation_range=10, \n",
    "    zoom_range=0.2,\n",
    "    width_shift_range=0.1,\n",
    "    height_shift_range=0.1,\n",
    "    horizontal_flip=True,\n",
    "    fill_mode=\"nearest\")\n",
    "\n",
    "test_preprocessor = ImageDataGenerator(\n",
    "    rescale=1.0/255.0)\n",
    "\n",
    "training_data = train_preprocessor.flow_from_directory(\n",
    "    train_data_path,\n",
    "    class_mode='categorical',\n",
    "    target_size=(img_shape, img_shape),\n",
    "    batch_size=batch_size,\n",
    "    color_mode=\"rgb\",\n",
    "    shuffle=True,\n",
    "    subset=\"training\"\n",
    ")\n",
    "\n",
    "testing_data = test_preprocessor.flow_from_directory(\n",
    "    test_data_path,\n",
    "    class_mode='categorical',\n",
    "    target_size=(img_shape, img_shape),\n",
    "    batch_size=batch_size,\n",
    "    color_mode=\"rgb\",\n",
    "    shuffle=False,\n",
    ")"
   ]
  },
  {
   "cell_type": "code",
   "execution_count": 10,
   "id": "c40bf579-9c4b-4fa5-a860-85838588d95c",
   "metadata": {},
   "outputs": [],
   "source": [
    "ResNet50V2=tf.keras.applications.ResNet50V2(input_shape=(224,224,3),include_top=False,weights=\"imagenet\")"
   ]
  },
  {
   "cell_type": "code",
   "execution_count": 11,
   "id": "8fde964d-c59c-468a-88d8-0052bdb20995",
   "metadata": {},
   "outputs": [],
   "source": [
    "ResNet50V2.trainable=True\n",
    "for layer in ResNet50V2.layers[:-50]:\n",
    "    layer.trainable=False"
   ]
  },
  {
   "cell_type": "code",
   "execution_count": 12,
   "id": "269d0868-a8fc-4c20-baf9-57efbe062a48",
   "metadata": {},
   "outputs": [],
   "source": [
    "def Create_ResNet50V2_Model():\n",
    "    model=keras.Sequential([ResNet50V2,\n",
    "                     Dropout(0.25),\n",
    "                     BatchNormalization(),\n",
    "                     Flatten(),\n",
    "                     Dense(64, activation=\"relu\"),\n",
    "                     BatchNormalization(),\n",
    "                     Dropout(0.5),\n",
    "                     Dense(7, activation=\"softmax\")])\n",
    "    return model"
   ]
  },
  {
   "cell_type": "code",
   "execution_count": 13,
   "id": "bd1fcd74-4c6d-46e5-94ba-4b2b2ddeb59f",
   "metadata": {
    "scrolled": true
   },
   "outputs": [
    {
     "data": {
      "text/html": [
       "<pre style=\"white-space:pre;overflow-x:auto;line-height:normal;font-family:Menlo,'DejaVu Sans Mono',consolas,'Courier New',monospace\"><span style=\"font-weight: bold\">Model: \"sequential\"</span>\n",
       "</pre>\n"
      ],
      "text/plain": [
       "\u001b[1mModel: \"sequential\"\u001b[0m\n"
      ]
     },
     "metadata": {},
     "output_type": "display_data"
    },
    {
     "data": {
      "text/html": [
       "<pre style=\"white-space:pre;overflow-x:auto;line-height:normal;font-family:Menlo,'DejaVu Sans Mono',consolas,'Courier New',monospace\">┏━━━━━━━━━━━━━━━━━━━━━━━━━━━━━━━━━┳━━━━━━━━━━━━━━━━━━━━━━━━┳━━━━━━━━━━━━━━━┓\n",
       "┃<span style=\"font-weight: bold\"> Layer (type)                    </span>┃<span style=\"font-weight: bold\"> Output Shape           </span>┃<span style=\"font-weight: bold\">       Param # </span>┃\n",
       "┡━━━━━━━━━━━━━━━━━━━━━━━━━━━━━━━━━╇━━━━━━━━━━━━━━━━━━━━━━━━╇━━━━━━━━━━━━━━━┩\n",
       "│ resnet50v2 (<span style=\"color: #0087ff; text-decoration-color: #0087ff\">Functional</span>)         │ (<span style=\"color: #00d7ff; text-decoration-color: #00d7ff\">None</span>, <span style=\"color: #00af00; text-decoration-color: #00af00\">7</span>, <span style=\"color: #00af00; text-decoration-color: #00af00\">7</span>, <span style=\"color: #00af00; text-decoration-color: #00af00\">2048</span>)     │    <span style=\"color: #00af00; text-decoration-color: #00af00\">23,564,800</span> │\n",
       "├─────────────────────────────────┼────────────────────────┼───────────────┤\n",
       "│ dropout (<span style=\"color: #0087ff; text-decoration-color: #0087ff\">Dropout</span>)               │ (<span style=\"color: #00d7ff; text-decoration-color: #00d7ff\">None</span>, <span style=\"color: #00af00; text-decoration-color: #00af00\">7</span>, <span style=\"color: #00af00; text-decoration-color: #00af00\">7</span>, <span style=\"color: #00af00; text-decoration-color: #00af00\">2048</span>)     │             <span style=\"color: #00af00; text-decoration-color: #00af00\">0</span> │\n",
       "├─────────────────────────────────┼────────────────────────┼───────────────┤\n",
       "│ batch_normalization             │ (<span style=\"color: #00d7ff; text-decoration-color: #00d7ff\">None</span>, <span style=\"color: #00af00; text-decoration-color: #00af00\">7</span>, <span style=\"color: #00af00; text-decoration-color: #00af00\">7</span>, <span style=\"color: #00af00; text-decoration-color: #00af00\">2048</span>)     │         <span style=\"color: #00af00; text-decoration-color: #00af00\">8,192</span> │\n",
       "│ (<span style=\"color: #0087ff; text-decoration-color: #0087ff\">BatchNormalization</span>)            │                        │               │\n",
       "├─────────────────────────────────┼────────────────────────┼───────────────┤\n",
       "│ flatten (<span style=\"color: #0087ff; text-decoration-color: #0087ff\">Flatten</span>)               │ (<span style=\"color: #00d7ff; text-decoration-color: #00d7ff\">None</span>, <span style=\"color: #00af00; text-decoration-color: #00af00\">100352</span>)         │             <span style=\"color: #00af00; text-decoration-color: #00af00\">0</span> │\n",
       "├─────────────────────────────────┼────────────────────────┼───────────────┤\n",
       "│ dense (<span style=\"color: #0087ff; text-decoration-color: #0087ff\">Dense</span>)                   │ (<span style=\"color: #00d7ff; text-decoration-color: #00d7ff\">None</span>, <span style=\"color: #00af00; text-decoration-color: #00af00\">64</span>)             │     <span style=\"color: #00af00; text-decoration-color: #00af00\">6,422,592</span> │\n",
       "├─────────────────────────────────┼────────────────────────┼───────────────┤\n",
       "│ batch_normalization_1           │ (<span style=\"color: #00d7ff; text-decoration-color: #00d7ff\">None</span>, <span style=\"color: #00af00; text-decoration-color: #00af00\">64</span>)             │           <span style=\"color: #00af00; text-decoration-color: #00af00\">256</span> │\n",
       "│ (<span style=\"color: #0087ff; text-decoration-color: #0087ff\">BatchNormalization</span>)            │                        │               │\n",
       "├─────────────────────────────────┼────────────────────────┼───────────────┤\n",
       "│ dropout_1 (<span style=\"color: #0087ff; text-decoration-color: #0087ff\">Dropout</span>)             │ (<span style=\"color: #00d7ff; text-decoration-color: #00d7ff\">None</span>, <span style=\"color: #00af00; text-decoration-color: #00af00\">64</span>)             │             <span style=\"color: #00af00; text-decoration-color: #00af00\">0</span> │\n",
       "├─────────────────────────────────┼────────────────────────┼───────────────┤\n",
       "│ dense_1 (<span style=\"color: #0087ff; text-decoration-color: #0087ff\">Dense</span>)                 │ (<span style=\"color: #00d7ff; text-decoration-color: #00d7ff\">None</span>, <span style=\"color: #00af00; text-decoration-color: #00af00\">7</span>)              │           <span style=\"color: #00af00; text-decoration-color: #00af00\">455</span> │\n",
       "└─────────────────────────────────┴────────────────────────┴───────────────┘\n",
       "</pre>\n"
      ],
      "text/plain": [
       "┏━━━━━━━━━━━━━━━━━━━━━━━━━━━━━━━━━┳━━━━━━━━━━━━━━━━━━━━━━━━┳━━━━━━━━━━━━━━━┓\n",
       "┃\u001b[1m \u001b[0m\u001b[1mLayer (type)                   \u001b[0m\u001b[1m \u001b[0m┃\u001b[1m \u001b[0m\u001b[1mOutput Shape          \u001b[0m\u001b[1m \u001b[0m┃\u001b[1m \u001b[0m\u001b[1m      Param #\u001b[0m\u001b[1m \u001b[0m┃\n",
       "┡━━━━━━━━━━━━━━━━━━━━━━━━━━━━━━━━━╇━━━━━━━━━━━━━━━━━━━━━━━━╇━━━━━━━━━━━━━━━┩\n",
       "│ resnet50v2 (\u001b[38;5;33mFunctional\u001b[0m)         │ (\u001b[38;5;45mNone\u001b[0m, \u001b[38;5;34m7\u001b[0m, \u001b[38;5;34m7\u001b[0m, \u001b[38;5;34m2048\u001b[0m)     │    \u001b[38;5;34m23,564,800\u001b[0m │\n",
       "├─────────────────────────────────┼────────────────────────┼───────────────┤\n",
       "│ dropout (\u001b[38;5;33mDropout\u001b[0m)               │ (\u001b[38;5;45mNone\u001b[0m, \u001b[38;5;34m7\u001b[0m, \u001b[38;5;34m7\u001b[0m, \u001b[38;5;34m2048\u001b[0m)     │             \u001b[38;5;34m0\u001b[0m │\n",
       "├─────────────────────────────────┼────────────────────────┼───────────────┤\n",
       "│ batch_normalization             │ (\u001b[38;5;45mNone\u001b[0m, \u001b[38;5;34m7\u001b[0m, \u001b[38;5;34m7\u001b[0m, \u001b[38;5;34m2048\u001b[0m)     │         \u001b[38;5;34m8,192\u001b[0m │\n",
       "│ (\u001b[38;5;33mBatchNormalization\u001b[0m)            │                        │               │\n",
       "├─────────────────────────────────┼────────────────────────┼───────────────┤\n",
       "│ flatten (\u001b[38;5;33mFlatten\u001b[0m)               │ (\u001b[38;5;45mNone\u001b[0m, \u001b[38;5;34m100352\u001b[0m)         │             \u001b[38;5;34m0\u001b[0m │\n",
       "├─────────────────────────────────┼────────────────────────┼───────────────┤\n",
       "│ dense (\u001b[38;5;33mDense\u001b[0m)                   │ (\u001b[38;5;45mNone\u001b[0m, \u001b[38;5;34m64\u001b[0m)             │     \u001b[38;5;34m6,422,592\u001b[0m │\n",
       "├─────────────────────────────────┼────────────────────────┼───────────────┤\n",
       "│ batch_normalization_1           │ (\u001b[38;5;45mNone\u001b[0m, \u001b[38;5;34m64\u001b[0m)             │           \u001b[38;5;34m256\u001b[0m │\n",
       "│ (\u001b[38;5;33mBatchNormalization\u001b[0m)            │                        │               │\n",
       "├─────────────────────────────────┼────────────────────────┼───────────────┤\n",
       "│ dropout_1 (\u001b[38;5;33mDropout\u001b[0m)             │ (\u001b[38;5;45mNone\u001b[0m, \u001b[38;5;34m64\u001b[0m)             │             \u001b[38;5;34m0\u001b[0m │\n",
       "├─────────────────────────────────┼────────────────────────┼───────────────┤\n",
       "│ dense_1 (\u001b[38;5;33mDense\u001b[0m)                 │ (\u001b[38;5;45mNone\u001b[0m, \u001b[38;5;34m7\u001b[0m)              │           \u001b[38;5;34m455\u001b[0m │\n",
       "└─────────────────────────────────┴────────────────────────┴───────────────┘\n"
      ]
     },
     "metadata": {},
     "output_type": "display_data"
    },
    {
     "data": {
      "text/html": [
       "<pre style=\"white-space:pre;overflow-x:auto;line-height:normal;font-family:Menlo,'DejaVu Sans Mono',consolas,'Courier New',monospace\"><span style=\"font-weight: bold\"> Total params: </span><span style=\"color: #00af00; text-decoration-color: #00af00\">29,996,295</span> (114.43 MB)\n",
       "</pre>\n"
      ],
      "text/plain": [
       "\u001b[1m Total params: \u001b[0m\u001b[38;5;34m29,996,295\u001b[0m (114.43 MB)\n"
      ]
     },
     "metadata": {},
     "output_type": "display_data"
    },
    {
     "data": {
      "text/html": [
       "<pre style=\"white-space:pre;overflow-x:auto;line-height:normal;font-family:Menlo,'DejaVu Sans Mono',consolas,'Courier New',monospace\"><span style=\"font-weight: bold\"> Trainable params: </span><span style=\"color: #00af00; text-decoration-color: #00af00\">22,779,527</span> (86.90 MB)\n",
       "</pre>\n"
      ],
      "text/plain": [
       "\u001b[1m Trainable params: \u001b[0m\u001b[38;5;34m22,779,527\u001b[0m (86.90 MB)\n"
      ]
     },
     "metadata": {},
     "output_type": "display_data"
    },
    {
     "data": {
      "text/html": [
       "<pre style=\"white-space:pre;overflow-x:auto;line-height:normal;font-family:Menlo,'DejaVu Sans Mono',consolas,'Courier New',monospace\"><span style=\"font-weight: bold\"> Non-trainable params: </span><span style=\"color: #00af00; text-decoration-color: #00af00\">7,216,768</span> (27.53 MB)\n",
       "</pre>\n"
      ],
      "text/plain": [
       "\u001b[1m Non-trainable params: \u001b[0m\u001b[38;5;34m7,216,768\u001b[0m (27.53 MB)\n"
      ]
     },
     "metadata": {},
     "output_type": "display_data"
    }
   ],
   "source": [
    "ResNet50V2_Model=Create_ResNet50V2_Model()\n",
    "ResNet50V2_Model.summary()\n",
    "ResNet50V2_Model.compile(optimizer=\"adam\",loss=\"categorical_crossentropy\",metrics=[\"accuracy\"])"
   ]
  },
  {
   "cell_type": "code",
   "execution_count": 14,
   "id": "8ef402cf-e4a0-4d52-b704-3cdce11d3ffe",
   "metadata": {},
   "outputs": [],
   "source": [
    "checkpoint_path=\"ResNet50V2_Model_Checkpoint.keras\"\n",
    "Checkpoint=ModelCheckpoint(checkpoint_path,monitor=\"val_accuracy\",save_best_only=True)\n",
    "Early_stopping = EarlyStopping(monitor='val_accuracy', patience=7, restore_best_weights=True, verbose=1)\n",
    "Reducing_LR=tf.keras.callbacks.ReduceLROnPlateau(monitor=\"val_loss\",factor=0.2,patience=2,min_lr=0.000005, verbose=1)\n",
    "callbacks=[Early_stopping, Reducing_LR]\n",
    "steps_per_epoch=training_data.n//training_data.batch_size\n",
    "validation_steps=testing_data.n//testing_data.batch_size"
   ]
  },
  {
   "cell_type": "code",
   "execution_count": null,
   "id": "a36dfe09-20a7-4031-a793-ea90d293b7ef",
   "metadata": {
    "scrolled": true
   },
   "outputs": [
    {
     "name": "stdout",
     "output_type": "stream",
     "text": [
      "Epoch 1/15\n",
      "\u001b[1m3588/3588\u001b[0m \u001b[32m━━━━━━━━━━━━━━━━━━━━\u001b[0m\u001b[37m\u001b[0m \u001b[1m2162s\u001b[0m 597ms/step - accuracy: 0.2707 - loss: 2.0640 - val_accuracy: 0.4280 - val_loss: 1.5685 - learning_rate: 0.0010\n",
      "Epoch 2/15\n",
      "\u001b[1m3588/3588\u001b[0m \u001b[32m━━━━━━━━━━━━━━━━━━━━\u001b[0m\u001b[37m\u001b[0m \u001b[1m287s\u001b[0m 80ms/step - accuracy: 0.3750 - loss: 2.1834 - val_accuracy: 0.4330 - val_loss: 1.5616 - learning_rate: 0.0010\n",
      "Epoch 3/15\n",
      "\u001b[1m3588/3588\u001b[0m \u001b[32m━━━━━━━━━━━━━━━━━━━━\u001b[0m\u001b[37m\u001b[0m \u001b[1m2356s\u001b[0m 657ms/step - accuracy: 0.3840 - loss: 1.6151 - val_accuracy: 0.4498 - val_loss: 1.5639 - learning_rate: 0.0010\n",
      "Epoch 4/15\n",
      "\u001b[1m   1/3588\u001b[0m \u001b[37m━━━━━━━━━━━━━━━━━━━━\u001b[0m \u001b[1m38:26\u001b[0m 643ms/step - accuracy: 0.5000 - loss: 1.5781\n",
      "Epoch 4: ReduceLROnPlateau reducing learning rate to 0.00020000000949949026.\n",
      "\u001b[1m3588/3588\u001b[0m \u001b[32m━━━━━━━━━━━━━━━━━━━━\u001b[0m\u001b[37m\u001b[0m \u001b[1m291s\u001b[0m 81ms/step - accuracy: 0.5000 - loss: 1.5781 - val_accuracy: 0.4489 - val_loss: 1.5629 - learning_rate: 0.0010\n",
      "Epoch 5/15\n",
      "\u001b[1m3588/3588\u001b[0m \u001b[32m━━━━━━━━━━━━━━━━━━━━\u001b[0m\u001b[37m\u001b[0m \u001b[1m2275s\u001b[0m 634ms/step - accuracy: 0.4109 - loss: 1.5429 - val_accuracy: 0.4912 - val_loss: 1.3566 - learning_rate: 2.0000e-04\n",
      "Epoch 6/15\n",
      "\u001b[1m3588/3588\u001b[0m \u001b[32m━━━━━━━━━━━━━━━━━━━━\u001b[0m\u001b[37m\u001b[0m \u001b[1m353s\u001b[0m 98ms/step - accuracy: 0.5000 - loss: 1.1583 - val_accuracy: 0.4919 - val_loss: 1.3561 - learning_rate: 2.0000e-04\n",
      "Epoch 7/15\n",
      "\u001b[1m 287/3588\u001b[0m \u001b[32m━\u001b[0m\u001b[37m━━━━━━━━━━━━━━━━━━━\u001b[0m \u001b[1m40:42\u001b[0m 740ms/step - accuracy: 0.4484 - loss: 1.4529"
     ]
    }
   ],
   "source": [
    "ResNet50V2_history=ResNet50V2_Model.fit(training_data,validation_data=testing_data,epochs=15, batch_size=batch_size, \n",
    "                          callbacks=callbacks, steps_per_epoch=steps_per_epoch, validation_steps=validation_steps)"
   ]
  },
  {
   "cell_type": "code",
   "execution_count": null,
   "id": "f187cac4-04e7-45d2-b502-3fec3fda0f87",
   "metadata": {},
   "outputs": [],
   "source": [
    "ResNet50V2_Model.save('ResNet50V2_Model.keras')"
   ]
  },
  {
   "cell_type": "code",
   "execution_count": null,
   "id": "a2e011d6-5bce-491b-b73a-a479cd9f74bd",
   "metadata": {},
   "outputs": [],
   "source": [
    "test_loss, test_acc = ResNet50V2_Model.evaluate(testing_data)\n",
    "print(f'Test accuracy: {test_acc:.2f}')"
   ]
  },
  {
   "cell_type": "code",
   "execution_count": null,
   "id": "29e33c17-a452-4abe-8165-03b34e828ea6",
   "metadata": {},
   "outputs": [],
   "source": [
    "def plot_curves(history):\n",
    "    loss = history.history[\"loss\"]\n",
    "    val_loss = history.history[\"val_loss\"]\n",
    "    accuracy = history.history[\"accuracy\"]\n",
    "    val_accuracy = history.history[\"val_accuracy\"]\n",
    "    epochs = range(len(loss))\n",
    "    \n",
    "    plt.figure(figsize=(15, 5))\n",
    "    plt.subplot(1, 2, 1)\n",
    "    plt.plot(epochs, loss, label=\"training_loss\")\n",
    "    plt.plot(epochs, val_loss, label=\"val_loss\")\n",
    "    plt.title(\"Loss\")\n",
    "    plt.xlabel(\"epochs\")\n",
    "    plt.legend()\n",
    "    \n",
    "    plt.subplot(1, 2, 2)\n",
    "    plt.plot(epochs, accuracy, label=\"training_accuracy\")\n",
    "    plt.plot(epochs, val_accuracy, label=\"val_accuracy\")\n",
    "    plt.title(\"Accuracy\")\n",
    "    plt.xlabel(\"epochs\")\n",
    "    plt.legend()\n",
    "    \n",
    "    plt.show()\n"
   ]
  },
  {
   "cell_type": "code",
   "execution_count": null,
   "id": "f554b7f5-08df-41db-b7b9-8680b5f137ca",
   "metadata": {},
   "outputs": [],
   "source": [
    "plot_curves(ResNet50V2_history)"
   ]
  },
  {
   "cell_type": "code",
   "execution_count": null,
   "id": "0b37b1d7-421a-44a5-9752-fd3bdf3baf03",
   "metadata": {},
   "outputs": [],
   "source": [
    "ResNet50V2_Predictions=ResNet50V2_Model.predict(testing_data)\n",
    "ResNet50V2_Predictions=np.argmax(ResNet50V2_Predictions,axis=1)"
   ]
  },
  {
   "cell_type": "code",
   "execution_count": null,
   "id": "ac42e918-d6dc-4144-a234-d49051db0b46",
   "metadata": {},
   "outputs": [],
   "source": [
    "fig, ax=plt.subplots(figsize=(15,10))\n",
    "cm=confusion_matrix(testing_data.labels,ResNet50V2_Predictions)\n",
    "sns.heatmap(cm, annot=True, fmt=\"g\", ax=ax)\n",
    "ax.set_xlabel(\"predicted labels\",fontsize=15, fontweight=\"bold\")\n",
    "ax.set_ylabel(\"True labels\",fontsize=15, fontweight=\"bold\")\n",
    "ax.set_title(\"ResNet50V2 Confusion Matrix\",fontsize=20, fontweight=\"bold\")"
   ]
  },
  {
   "cell_type": "code",
   "execution_count": null,
   "id": "793fd1a6-d447-435b-b5dd-69cf1ae76ef1",
   "metadata": {},
   "outputs": [],
   "source": [
    "Emotion_Classes=[\"Angry\",\n",
    "                \"Disgust\",\n",
    "                \"Fear\",\n",
    "                \"Happy\",\n",
    "                \"Neutral\",\n",
    "                \"Sad\",\n",
    "                \"Surprise\"]"
   ]
  },
  {
   "cell_type": "code",
   "execution_count": null,
   "id": "a913c50f-f23d-4f32-ac47-40f5b86923d7",
   "metadata": {},
   "outputs": [],
   "source": [
    "test_preprocessor=ImageDataGenerator(rescale=1/255.,)\n",
    "test_generator=test_preprocessor.flow_from_directory(\n",
    "    test_data_path,\n",
    "    class_mode=\"categorical\",\n",
    "    target_size=(img_shape, img_shape),\n",
    "    color_mode=\"rgb\",\n",
    "    shuffle=True,\n",
    "    batch_size=batch_size,\n",
    ")"
   ]
  },
  {
   "cell_type": "code",
   "execution_count": null,
   "id": "3c716bb9-80e5-42b8-a369-d24846de238b",
   "metadata": {},
   "outputs": [],
   "source": [
    "Random_batch = np.random.randint(0, len(test_generator) - 1)\n",
    "Random_Img_Index = np.random.randint(0, batch_size - 1, 10)\n",
    "fig, axes = plt.subplots(nrows=2, ncols=5, figsize=(25, 10), subplot_kw={\"xticks\": [], \"yticks\": []})\n",
    "\n",
    "for i, ax in enumerate(axes.flat):\n",
    "    Random_Img = test_generator[Random_batch][0][Random_Img_Index[i]]\n",
    "    Random_Img_Label = np.argmax(test_generator[Random_batch][1][Random_Img_Index[i]])\n",
    "    Model_Prediction = np.argmax(ResNet50V2_Model.predict(tf.expand_dims(Random_Img, axis=0), verbose=0))\n",
    "    ax.imshow(Random_Img)\n",
    "    if Emotion_Classes[Random_Img_Label] == Emotion_Classes[Model_Prediction]:\n",
    "        color = \"green\"\n",
    "    else:\n",
    "        color = \"red\"\n",
    "    ax.set_title(f\"True: {Emotion_Classes[Random_Img_Label]}\\nPredicted: {Emotion_Classes[Model_Prediction]}\", color=color)\n",
    "\n",
    "plt.tight_layout()\n",
    "plt.show()\n"
   ]
  },
  {
   "cell_type": "markdown",
   "id": "cb3cfd2d-7a40-4248-a1f9-d4b64bf3a57e",
   "metadata": {},
   "source": [
    "**MOODFORMUSIC APP**"
   ]
  },
  {
   "cell_type": "code",
   "execution_count": null,
   "id": "e253af7e-20d6-41c7-a001-d8991fd56aa2",
   "metadata": {},
   "outputs": [],
   "source": [
    "import urllib.request\n",
    "\n",
    "url = \"https://raw.githubusercontent.com/opencv/opencv/master/data/haarcascades/haarcascade_frontalface_default.xml\"\n",
    "filename = \"haarcascade_frontalface_default.xml\"\n",
    "urllib.request.urlretrieve(url, filename)\n",
    "faceCascade = cv2.CascadeClassifier(\"haarcascade_frontalface_default.xml\")\n"
   ]
  },
  {
   "cell_type": "code",
   "execution_count": null,
   "id": "28414e15-36bc-498b-b0ce-291af216fe40",
   "metadata": {},
   "outputs": [],
   "source": [
    "Music_Player=pd.read_csv(\"../MoodforMusic/data_moods.csv\")\n",
    "Music_Player=Music_Player[[\"name\",\"artist\",\"mood\",\"popularity\"]]\n",
    "Music_Player.head()"
   ]
  },
  {
   "cell_type": "code",
   "execution_count": null,
   "id": "da8b2f76-2ac3-4666-ada2-aac537c09366",
   "metadata": {},
   "outputs": [],
   "source": [
    "Music_Player[\"mood\"].value_counts()"
   ]
  },
  {
   "cell_type": "code",
   "execution_count": null,
   "id": "b867d711-238d-4132-b734-225032d1ab31",
   "metadata": {},
   "outputs": [],
   "source": [
    "Music_Player[\"popularity\"].value_counts()"
   ]
  },
  {
   "cell_type": "code",
   "execution_count": null,
   "id": "0c6d9888-2716-461d-bae8-b495541d9583",
   "metadata": {},
   "outputs": [],
   "source": [
    "Play=Music_Player[Music_Player[\"mood\"]==\"Calm\"]\n",
    "Play=Play.sort_values(by=\"popularity\",ascending=False)\n",
    "Play=Play[:5].reset_index(drop=True)\n",
    "display(Play)"
   ]
  },
  {
   "cell_type": "code",
   "execution_count": null,
   "id": "1d5f6fbb-6439-44cb-91ec-93bd70f5d9ea",
   "metadata": {},
   "outputs": [],
   "source": [
    "def Recommend_Songs(pred_class):\n",
    "    mood_map = {\n",
    "        \"Disgust\": \"Sad\",\n",
    "        \"Happy\": \"Happy\",\n",
    "        \"Sad\": \"Happy\",\n",
    "        \"Fear\": \"Calm\",\n",
    "        \"Angry\": \"Calm\",\n",
    "        \"Surprise\": \"Energetic\",\n",
    "        \"Neutral\": \"Energetic\"\n",
    "    }\n",
    "\n",
    "    mood = mood_map.get(pred_class, \"Happy\")  # Default to \"Happy\" if pred_class not found\n",
    "    Play = Music_Player[Music_Player[\"mood\"] == mood]\n",
    "    Play = Play.sort_values(by=\"popularity\", ascending=False)\n",
    "    Play = Play[:5].reset_index(drop=True)\n",
    "    display(Play)"
   ]
  },
  {
   "cell_type": "code",
   "execution_count": null,
   "id": "d5de4d76-82dd-48e4-aa71-a008a14c3dc8",
   "metadata": {},
   "outputs": [],
   "source": [
    "def load_and_prep_image(filename, img_shape=224):\n",
    "    # Load the image\n",
    "    img = cv2.imread(filename)\n",
    "    if img is None:\n",
    "        print(f\"Error: Unable to load image at path {filename}\")\n",
    "        return None\n",
    "    \n",
    "    # Convert the image to grayscale\n",
    "    GrayImg = cv2.cvtColor(img, cv2.COLOR_BGR2GRAY)\n",
    "    \n",
    "    # Detect faces\n",
    "    faces = faceCascade.detectMultiScale(GrayImg, 1.1, 4)\n",
    "    for x, y, w, h in faces:\n",
    "        roi_GrayImg = img[y: y + h, x: x + w]\n",
    "        roi_Img = img[y: y + h, x: x + w]\n",
    "        cv2.rectangle(img, (x, y), (x + w, y + h), (0, 255, 0), 2)\n",
    "        \n",
    "        # Display the detected face\n",
    "        plt.imshow(cv2.cvtColor(img, cv2.COLOR_BGR2RGB))\n",
    "        plt.axis('off')\n",
    "        plt.show()\n",
    "\n",
    "        # Further face detection within the ROI\n",
    "        faces = faceCascade.detectMultiScale(roi_Img, 1.1, 4)\n",
    "        if len(faces) == 0:\n",
    "            print(\"No additional faces detected within the ROI\")\n",
    "        else:\n",
    "            for (ex, ey, ew, eh) in faces:\n",
    "                img = roi_Img[ey: ey + eh, ex: ex + ew]\n",
    "\n",
    "    # Convert the image to RGB\n",
    "    RGBImg = cv2.cvtColor(img, cv2.COLOR_BGR2RGB)\n",
    "    \n",
    "    # Resize the image\n",
    "    RGBImg = cv2.resize(RGBImg, (img_shape, img_shape))\n",
    "    \n",
    "    # Normalize the image\n",
    "    RGBImg = RGBImg / 255.0\n",
    "\n",
    "    return RGBImg\n"
   ]
  },
  {
   "cell_type": "code",
   "execution_count": null,
   "id": "94936e9c-5f7d-4f1e-a821-99832ad15dcb",
   "metadata": {},
   "outputs": [],
   "source": [
    "def pred_and_plot(filename, class_names):\n",
    "    # Load and prepare the image\n",
    "    img = load_and_prep_image(filename)\n",
    "    \n",
    "    # Check if the image is loaded correctly\n",
    "    if img is None:\n",
    "        print(f\"Error: Unable to process the image at path {filename}\")\n",
    "        return\n",
    "    \n",
    "    # Make prediction\n",
    "    pred = ResNet50V2_Model.predict(np.expand_dims(img, axis=0))\n",
    "    pred_class = class_names[pred.argmax()]\n",
    "    \n",
    "    # Plot the image with prediction\n",
    "    plt.imshow(img)\n",
    "    plt.title(f\"Prediction: {pred_class}\")\n",
    "    plt.axis('off')  # Remove the axis\n",
    "    \n",
    "    # Display the plot\n",
    "    plt.show()\n",
    "    \n",
    "    # Recommend songs based on the prediction\n",
    "    Recommend_Songs(pred_class)"
   ]
  },
  {
   "cell_type": "code",
   "execution_count": null,
   "id": "869aeed3-7db9-42a7-b870-b1979511d681",
   "metadata": {},
   "outputs": [],
   "source": [
    "pred_and_plot(\"MoodforMusic/test/happy/PrivateTest_10516065.jpg\".replace(\"\\\\\", \"/\"), Emotion_Classes)"
   ]
  },
  {
   "cell_type": "code",
   "execution_count": null,
   "id": "c6eb2a7a-4668-4283-a1ae-96cee1d7dcd5",
   "metadata": {},
   "outputs": [],
   "source": [
    "pred_and_plot(\"MoodforMusic/test/sad/PrivateTest_11080550.jpg\".replace(\"\\\\\", \"/\"), Emotion_Classes)"
   ]
  },
  {
   "cell_type": "code",
   "execution_count": null,
   "id": "edf39a28-a074-4cad-bf01-de2dcc252337",
   "metadata": {},
   "outputs": [],
   "source": [
    "pred_and_plot(\"MoodforMusic/test/neutral/PrivateTest_11239107.jpg\".replace(\"\\\\\", \"/\"), Emotion_Classes)"
   ]
  },
  {
   "cell_type": "code",
   "execution_count": null,
   "id": "29fe08fe-01be-41cd-bf21-eb86d43f2eb4",
   "metadata": {},
   "outputs": [],
   "source": [
    "pred_and_plot(\"MoodforMusic/test/surprise/PrivateTest_11445412.jpg\".replace(\"\\\\\", \"/\"), Emotion_Classes)"
   ]
  }
 ],
 "metadata": {
  "kernelspec": {
   "display_name": "Python 3 (ipykernel)",
   "language": "python",
   "name": "python3"
  },
  "language_info": {
   "codemirror_mode": {
    "name": "ipython",
    "version": 3
   },
   "file_extension": ".py",
   "mimetype": "text/x-python",
   "name": "python",
   "nbconvert_exporter": "python",
   "pygments_lexer": "ipython3",
   "version": "3.12.4"
  }
 },
 "nbformat": 4,
 "nbformat_minor": 5
}
